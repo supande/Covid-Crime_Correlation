{
 "cells": [
  {
   "cell_type": "code",
   "execution_count": 13,
   "id": "6e4258fc-c03a-4b1c-bfc3-60d0c7f0e2ae",
   "metadata": {},
   "outputs": [
    {
     "name": "stdout",
     "output_type": "stream",
     "text": [
      "Type of Covid-19 data statistic |     Correlation coefficient      \n",
      "-------------------------|--------------------------\n",
      "Case count               |  -0.654\n",
      "Hospitalized count       |  -0.670\n",
      "Death count              |  -0.663\n",
      "Case count 7-day moving avg.   |  -0.745\n"
     ]
    }
   ],
   "source": [
    "import pandas as pd\n",
    "from scipy.stats import pearsonr\n",
    "\n",
    "df=pd.read_csv(\"2020_Whole_Data.csv\")\n",
    "list1=df['Number of crimes']\n",
    "list2=df['CASE_COUNT']\n",
    "list3=df['HOSPITALIZED_COUNT']\n",
    "list4=df['DEATH_COUNT']\n",
    "list5=df['CASE_COUNT_7DAY_AVG']\n",
    "corr,_=pearsonr(list1,list2)\n",
    "corr1,_=pearsonr(list1,list3)\n",
    "corr2,_=pearsonr(list1,list4)\n",
    "corr3,_=pearsonr(list1,list5)\n",
    "print(\"Type of Covid-19 data statistic |     Correlation coefficient      \")\n",
    "print(\"-------------------------|--------------------------\")\n",
    "print(\"Case count  \",\"            |\",\" %.3f\"%corr)\n",
    "print(\"Hospitalized count  \",\"    |\",\" %.3f\"%corr1)\n",
    "print(\"Death count  \",\"           |\",\" %.3f\"%corr2)\n",
    "print(\"Case count 7-day moving avg.  \",\"|\",\" %.3f\"%corr3)"
   ]
  },
  {
   "cell_type": "code",
   "execution_count": 14,
   "id": "46b5fc2e-4014-4e19-aaf3-c4735d722861",
   "metadata": {},
   "outputs": [
    {
     "name": "stdout",
     "output_type": "stream",
     "text": [
      "Type of Covid-19 data statistic |     Correlation coefficient      \n",
      "-------------------------|--------------------------\n",
      "Case count               |  -0.455\n",
      "Hospitalized count       |  -0.589\n",
      "Death count              |  -0.654\n",
      "Case count 7-day moving avg.   |  -0.577\n"
     ]
    }
   ],
   "source": [
    "import pandas as pd\n",
    "from scipy.stats import pearsonr\n",
    "\n",
    "df=pd.read_csv(\"2021_Whole_Data.csv\")\n",
    "list1=df['Number of crimes']\n",
    "list2=df['CASE_COUNT']\n",
    "list3=df['HOSPITALIZED_COUNT']\n",
    "list4=df['DEATH_COUNT']\n",
    "list5=df['CASE_COUNT_7DAY_AVG']\n",
    "corr,_=pearsonr(list1,list2)\n",
    "corr1,_=pearsonr(list1,list3)\n",
    "corr2,_=pearsonr(list1,list4)\n",
    "corr3,_=pearsonr(list1,list5)\n",
    "print(\"Type of Covid-19 data statistic |     Correlation coefficient      \")\n",
    "print(\"-------------------------|--------------------------\")\n",
    "print(\"Case count  \",\"            |\",\" %.3f\"%corr)\n",
    "print(\"Hospitalized count  \",\"    |\",\" %.3f\"%corr1)\n",
    "print(\"Death count  \",\"           |\",\" %.3f\"%corr2)\n",
    "print(\"Case count 7-day moving avg.  \",\"|\",\" %.3f\"%corr3)"
   ]
  },
  {
   "cell_type": "code",
   "execution_count": null,
   "id": "6788d696-4b21-4807-8c27-fdbc7552d086",
   "metadata": {},
   "outputs": [],
   "source": []
  },
  {
   "cell_type": "code",
   "execution_count": null,
   "id": "38d1fbca-bcb3-462f-98c5-6b8920586b43",
   "metadata": {},
   "outputs": [],
   "source": []
  },
  {
   "cell_type": "code",
   "execution_count": null,
   "id": "24d3f994-15f8-485d-af1f-28b900bc3dd5",
   "metadata": {},
   "outputs": [],
   "source": []
  },
  {
   "cell_type": "code",
   "execution_count": null,
   "id": "b503c5bd-d69d-4aac-9aa7-b8554bc27bab",
   "metadata": {},
   "outputs": [],
   "source": []
  },
  {
   "cell_type": "code",
   "execution_count": null,
   "id": "b7036d78-7648-438f-a18b-5ab0f396972a",
   "metadata": {},
   "outputs": [],
   "source": []
  },
  {
   "cell_type": "code",
   "execution_count": null,
   "id": "746a8584-db56-4eeb-b31c-ea85cc396211",
   "metadata": {},
   "outputs": [],
   "source": []
  },
  {
   "cell_type": "code",
   "execution_count": null,
   "id": "1a01cb69-7929-49f3-a7ef-9c6f0fef2f57",
   "metadata": {},
   "outputs": [],
   "source": []
  }
 ],
 "metadata": {
  "kernelspec": {
   "display_name": "Python 3 (ipykernel)",
   "language": "python",
   "name": "python3"
  },
  "language_info": {
   "codemirror_mode": {
    "name": "ipython",
    "version": 3
   },
   "file_extension": ".py",
   "mimetype": "text/x-python",
   "name": "python",
   "nbconvert_exporter": "python",
   "pygments_lexer": "ipython3",
   "version": "3.10.0"
  }
 },
 "nbformat": 4,
 "nbformat_minor": 5
}
